{
 "cells": [
  {
   "cell_type": "markdown",
   "id": "3973d34d-5f93-4a5b-bc06-1a6aa842c729",
   "metadata": {},
   "source": [
    "Sort an Array of 0s, 1s, and 2s"
   ]
  },
  {
   "cell_type": "code",
   "execution_count": 1,
   "id": "b9c08414-d768-4478-98df-d6909f106b2d",
   "metadata": {},
   "outputs": [],
   "source": [
    "class Solution:\n",
    "    def sort012(self, arr, n):\n",
    "        count = [0, 0, 0]\n",
    "        \n",
    "        # Count the occurrences of 0s, 1s, and 2s\n",
    "        for num in arr:\n",
    "            count[num] += 1\n",
    "        \n",
    "        # Overwrite the original array with sorted elements\n",
    "        place = 0\n",
    "        for i in range(3):\n",
    "            for j in range(count[i]):\n",
    "                arr[place] = i\n",
    "                place += 1\n",
    "        \n",
    "        return arr\n"
   ]
  },
  {
   "cell_type": "markdown",
   "id": "20fb266d-14a8-41ba-8990-89fe58527eef",
   "metadata": {},
   "source": [
    "Binary Search"
   ]
  },
  {
   "cell_type": "code",
   "execution_count": null,
   "id": "1cec801d-d860-413a-ac93-7ece860bdd94",
   "metadata": {},
   "outputs": [],
   "source": [
    "#User function template for Python\n",
    "\n",
    "class Solution:\n",
    "    def binarysearch(self, arr, n, k):\n",
    "        start = 0\n",
    "        end = n - 1\n",
    "        \n",
    "        while start <= end:\n",
    "            middle = start + (end - start) // 2\n",
    "            \n",
    "            if arr[middle] == k:\n",
    "                return middle\n",
    "            elif k < arr[middle]:\n",
    "                end = middle - 1\n",
    "            else:\n",
    "                start = middle + 1\n",
    "        \n",
    "        return -1  # Return -1 if element is not found\n"
   ]
  }
 ],
 "metadata": {
  "kernelspec": {
   "display_name": "Python 3 (ipykernel)",
   "language": "python",
   "name": "python3"
  },
  "language_info": {
   "codemirror_mode": {
    "name": "ipython",
    "version": 3
   },
   "file_extension": ".py",
   "mimetype": "text/x-python",
   "name": "python",
   "nbconvert_exporter": "python",
   "pygments_lexer": "ipython3",
   "version": "3.11.7"
  }
 },
 "nbformat": 4,
 "nbformat_minor": 5
}
